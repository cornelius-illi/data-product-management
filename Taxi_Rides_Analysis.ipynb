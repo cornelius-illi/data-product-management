{
  "nbformat": 4,
  "nbformat_minor": 5,
  "metadata": {
    "noteable-chatgpt": {
      "create_notebook": {
        "openai_conversation_id": "c4a8afb2-d914-5a4a-89fa-dc8edba7592b",
        "openai_ephemeral_user_id": "d7dfd077-ad25-5df2-af13-c31baf391e57"
      }
    },
    "noteable": {
      "last_transaction_id": "8689dd4b-9613-47b2-aef7-dfef03d68653"
    },
    "selected_hardware_size": "small"
  },
  "cells": [
    {
      "id": "c205fb18-22da-4b21-9736-55c587be3db9",
      "cell_type": "code",
      "metadata": {
        "jupyter": {
          "outputs_hidden": false,
          "source_hidden": false
        },
        "noteable": {
          "cell_type": "code"
        }
      },
      "execution_count": null,
      "source": "",
      "outputs": []
    },
    {
      "id": "fbef055a-daa3-4807-a871-f3411380433b",
      "cell_type": "code",
      "metadata": {
        "noteable": {
          "cell_type": "code",
          "output_collection_id": "ca88deda-9528-4cc2-8cab-508d06f8e717"
        },
        "ExecuteTime": {
          "end_time": "2023-07-13T13:56:05.166492+00:00",
          "start_time": "2023-07-13T13:56:00.307819+00:00"
        }
      },
      "execution_count": null,
      "source": "!pip install -q pandas matplotlib",
      "outputs": []
    },
    {
      "id": "f2400032-0e4a-44f4-b8b9-a7aa2c42bb3a",
      "cell_type": "code",
      "metadata": {
        "noteable": {
          "cell_type": "code",
          "output_collection_id": "585a1e32-4d52-4d5e-b0de-995d92710ab3"
        },
        "ExecuteTime": {
          "end_time": "2023-07-13T13:56:24.238955+00:00",
          "start_time": "2023-07-13T13:56:21.347922+00:00"
        },
        "datalink": {
          "07dd2a88-69fb-41c5-87e6-53466d2dcdcf": {
            "applied_filters": [],
            "dataframe_info": {
              "default_index_used": true,
              "orig_num_cols": 15,
              "orig_num_rows": 5,
              "orig_size_bytes": 640,
              "truncated_num_cols": 15,
              "truncated_num_rows": 5,
              "truncated_size_bytes": 640,
              "truncated_string_columns": []
            },
            "display_id": "07dd2a88-69fb-41c5-87e6-53466d2dcdcf",
            "dx_settings": {
              "ALLOW_NOTEABLE_ATTRS": true,
              "COLUMN_SAMPLING_METHOD": "outer",
              "DB_LOCATION": ":memory:",
              "DEV_MODE": false,
              "DISPLAY_MAX_COLUMNS": 100,
              "DISPLAY_MAX_ROWS": 50000,
              "DISPLAY_MODE": "simple",
              "ENABLE_ASSIGNMENT": true,
              "ENABLE_DATALINK": true,
              "FLATTEN_COLUMN_VALUES": true,
              "FLATTEN_INDEX_VALUES": false,
              "GENERATE_DEX_METADATA": false,
              "HTML_TABLE_SCHEMA": false,
              "LOG_LEVEL": 30,
              "MAX_RENDER_SIZE_BYTES": 104857600,
              "MAX_STRING_LENGTH": 250,
              "NUM_PAST_SAMPLES_TRACKED": 3,
              "RANDOM_STATE": 12648430,
              "RESET_INDEX_VALUES": false,
              "ROW_SAMPLING_METHOD": "random",
              "SAMPLING_FACTOR": 0.1,
              "SAMPLING_METHOD": "random",
              "STRINGIFY_COLUMN_VALUES": true,
              "STRINGIFY_INDEX_VALUES": false
            },
            "sample_history": [],
            "sampling_time": "2023-07-13T13:56:24.079451",
            "user_variable_name": null,
            "variable_name": "unk_dataframe_4f8f5d370c2144baa9a427a3972a254e"
          }
        }
      },
      "execution_count": null,
      "source": "import pandas as pd\nimport matplotlib.pyplot as plt\n\n# Load the data\nurl = 'https://raw.githubusercontent.com/cornelius-illi/data-product-management/main/data/taxi_rides_01.csv'\ndf = pd.read_csv(url)\n\n# Display the first few rows of the dataframe\ndf.head()",
      "outputs": []
    }
  ]
}