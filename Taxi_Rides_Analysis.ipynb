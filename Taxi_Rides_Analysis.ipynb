{
  "nbformat": 4,
  "nbformat_minor": 5,
  "metadata": {
    "noteable-chatgpt": {
      "create_notebook": {
        "openai_conversation_id": "c4a8afb2-d914-5a4a-89fa-dc8edba7592b",
        "openai_ephemeral_user_id": "d7dfd077-ad25-5df2-af13-c31baf391e57"
      }
    },
    "noteable": {
      "last_transaction_id": "6a421e02-7472-48be-9717-f41d9c986e13"
    },
    "selected_hardware_size": "small"
  },
  "cells": [
    {
      "id": "c205fb18-22da-4b21-9736-55c587be3db9",
      "cell_type": "code",
      "metadata": {
        "jupyter": {
          "outputs_hidden": false,
          "source_hidden": false
        },
        "noteable": {
          "cell_type": "code"
        }
      },
      "execution_count": null,
      "source": "",
      "outputs": []
    },
    {
      "id": "fbef055a-daa3-4807-a871-f3411380433b",
      "cell_type": "code",
      "metadata": {
        "noteable": {
          "cell_type": "code",
          "output_collection_id": "ca88deda-9528-4cc2-8cab-508d06f8e717"
        },
        "ExecuteTime": {
          "end_time": "2023-07-13T13:56:05.166492+00:00",
          "start_time": "2023-07-13T13:56:00.307819+00:00"
        }
      },
      "execution_count": null,
      "source": "!pip install -q pandas matplotlib",
      "outputs": []
    },
    {
      "id": "f2400032-0e4a-44f4-b8b9-a7aa2c42bb3a",
      "cell_type": "code",
      "metadata": {
        "noteable": {
          "cell_type": "code",
          "output_collection_id": "585a1e32-4d52-4d5e-b0de-995d92710ab3"
        },
        "ExecuteTime": {
          "end_time": "2023-07-13T13:56:24.238955+00:00",
          "start_time": "2023-07-13T13:56:21.347922+00:00"
        },
        "datalink": {
          "07dd2a88-69fb-41c5-87e6-53466d2dcdcf": {
            "applied_filters": [],
            "dataframe_info": {
              "default_index_used": true,
              "orig_num_cols": 15,
              "orig_num_rows": 5,
              "orig_size_bytes": 640,
              "truncated_num_cols": 15,
              "truncated_num_rows": 5,
              "truncated_size_bytes": 640,
              "truncated_string_columns": []
            },
            "display_id": "07dd2a88-69fb-41c5-87e6-53466d2dcdcf",
            "dx_settings": {
              "ALLOW_NOTEABLE_ATTRS": true,
              "COLUMN_SAMPLING_METHOD": "outer",
              "DB_LOCATION": ":memory:",
              "DEV_MODE": false,
              "DISPLAY_MAX_COLUMNS": 100,
              "DISPLAY_MAX_ROWS": 50000,
              "DISPLAY_MODE": "simple",
              "ENABLE_ASSIGNMENT": true,
              "ENABLE_DATALINK": true,
              "FLATTEN_COLUMN_VALUES": true,
              "FLATTEN_INDEX_VALUES": false,
              "GENERATE_DEX_METADATA": false,
              "HTML_TABLE_SCHEMA": false,
              "LOG_LEVEL": 30,
              "MAX_RENDER_SIZE_BYTES": 104857600,
              "MAX_STRING_LENGTH": 250,
              "NUM_PAST_SAMPLES_TRACKED": 3,
              "RANDOM_STATE": 12648430,
              "RESET_INDEX_VALUES": false,
              "ROW_SAMPLING_METHOD": "random",
              "SAMPLING_FACTOR": 0.1,
              "SAMPLING_METHOD": "random",
              "STRINGIFY_COLUMN_VALUES": true,
              "STRINGIFY_INDEX_VALUES": false
            },
            "sample_history": [],
            "sampling_time": "2023-07-13T13:56:24.079451",
            "user_variable_name": null,
            "variable_name": "unk_dataframe_4f8f5d370c2144baa9a427a3972a254e"
          }
        }
      },
      "execution_count": null,
      "source": "import pandas as pd\nimport matplotlib.pyplot as plt\n\n# Load the data\nurl = 'https://raw.githubusercontent.com/cornelius-illi/data-product-management/main/data/taxi_rides_01.csv'\ndf = pd.read_csv(url)\n\n# Display the first few rows of the dataframe\ndf.head()",
      "outputs": []
    },
    {
      "id": "4833ac82-0023-442d-8efd-4bdd77124685",
      "cell_type": "code",
      "metadata": {
        "noteable": {
          "cell_type": "code",
          "output_collection_id": "6ace48f8-2798-4b47-9659-65bff8d36479"
        },
        "ExecuteTime": {
          "end_time": "2023-07-13T13:57:23.558330+00:00",
          "start_time": "2023-07-13T13:57:22.904984+00:00"
        }
      },
      "execution_count": null,
      "source": "# Create a histogram of passenger counts\ndf['passenger_count'].hist(bins=range(1, 10), edgecolor='black')\n\n# Set the title and labels\nplt.title('Number of Rides by Passenger Count')\nplt.xlabel('Passenger Count')\nplt.ylabel('Number of Rides')\n\n# Show the plot\nplt.show()",
      "outputs": []
    },
    {
      "id": "5de4ca44-19b0-4b2e-9f0a-2b14b5de5d12",
      "cell_type": "code",
      "metadata": {
        "noteable": {
          "cell_type": "code",
          "output_collection_id": "44782f48-c16e-4051-badb-08a4bb88a19a"
        },
        "ExecuteTime": {
          "end_time": "2023-07-13T13:58:08.249919+00:00",
          "start_time": "2023-07-13T13:58:08.035576+00:00"
        }
      },
      "execution_count": null,
      "source": "# Calculate the total number of rides\ntotal_rides = df.shape[0]\n\n# Calculate the number of rides with 1-2 passengers\nlow_passenger_rides = df[df['passenger_count'].isin([1, 2])].shape[0]\n\n# Calculate the percentage of rides with 1-2 passengers\nlow_passenger_percentage = (low_passenger_rides / total_rides) * 100\n\nlow_passenger_percentage",
      "outputs": []
    }
  ]
}