{
  "nbformat": 4,
  "nbformat_minor": 5,
  "metadata": {
    "noteable-chatgpt": {
      "create_notebook": {
        "openai_conversation_id": "c4a8afb2-d914-5a4a-89fa-dc8edba7592b",
        "openai_ephemeral_user_id": "d7dfd077-ad25-5df2-af13-c31baf391e57"
      }
    }
  },
  "cells": []
}